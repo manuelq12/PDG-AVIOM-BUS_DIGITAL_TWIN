{
 "cells": [
  {
   "cell_type": "code",
   "execution_count": 1,
   "metadata": {},
   "outputs": [],
   "source": [
    "import numpy as np #operaciones matriciales y con vectores\n",
    "import pandas as pd #tratamiento de datos\n",
    "import matplotlib.pyplot as plt #gráficos\n",
    "import seaborn as sns\n",
    "from sklearn.neighbors import KNeighborsClassifier\n",
    "from sklearn.naive_bayes import GaussianNB\n",
    "from sklearn.linear_model import LinearRegression # modelos lineales\n",
    "from sklearn.metrics import r2_score\n",
    "from sklearn.model_selection import train_test_split #metodo de particionamiento de datasets para evaluación\n",
    "from sklearn.model_selection import cross_val_score #protocolo de evaluación\n",
    "from sklearn import datasets, metrics\n",
    "from sklearn import preprocessing\n",
    "from sklearn.metrics import make_scorer\n",
    "import warnings\n",
    "warnings.filterwarnings('ignore')"
   ]
  },
  {
   "cell_type": "code",
   "execution_count": 32,
   "metadata": {},
   "outputs": [],
   "source": [
    "col_Headers = [\"EventType\",\"RegisterDate\",\"StopID\",\"Odometer\",\"Longitude\",\"Latitude\", \"TaskID\",\"LineID\",\"TripID\",\"DatagramID\",\"DatagramDate\",\"BusID\"]\n",
    "df = pd.read_csv('m_datagrams.csv',',',dtype={\"EventType\": str, \"RegisterDate\": str, \"StopID\": str,\"Odometer\": str,\"Longitude\": str,\"Latitude\": str, \"TaskID\": str,\"LineID\": str,\"TripID\": str,\"DatagramID\": str,\"DatagramDate\": str,\"BusID\": str},names = col_Headers)"
   ]
  },
  {
   "cell_type": "markdown",
   "metadata": {},
   "source": [
    "## Analisis Exploratorio de Datos"
   ]
  },
  {
   "cell_type": "markdown",
   "metadata": {},
   "source": [
    "Un análisis exploratorio de los datos verificando la calidad de los datos (tipos de las variables, valores inválidos, excepciones, valores faltantes, etc.), utilizando gráficos para poder entender las distribuciones de los datos e identificar posibles problemas."
   ]
  },
  {
   "cell_type": "code",
   "execution_count": 33,
   "metadata": {},
   "outputs": [
    {
     "data": {
      "text/html": [
       "<div>\n",
       "<style scoped>\n",
       "    .dataframe tbody tr th:only-of-type {\n",
       "        vertical-align: middle;\n",
       "    }\n",
       "\n",
       "    .dataframe tbody tr th {\n",
       "        vertical-align: top;\n",
       "    }\n",
       "\n",
       "    .dataframe thead th {\n",
       "        text-align: right;\n",
       "    }\n",
       "</style>\n",
       "<table border=\"1\" class=\"dataframe\">\n",
       "  <thead>\n",
       "    <tr style=\"text-align: right;\">\n",
       "      <th></th>\n",
       "      <th>EventType</th>\n",
       "      <th>RegisterDate</th>\n",
       "      <th>StopID</th>\n",
       "      <th>Odometer</th>\n",
       "      <th>Longitude</th>\n",
       "      <th>Latitude</th>\n",
       "      <th>TaskID</th>\n",
       "      <th>LineID</th>\n",
       "      <th>TripID</th>\n",
       "      <th>DatagramID</th>\n",
       "      <th>DatagramDate</th>\n",
       "      <th>BusID</th>\n",
       "    </tr>\n",
       "  </thead>\n",
       "  <tbody>\n",
       "    <tr>\n",
       "      <th>0</th>\n",
       "      <td>19</td>\n",
       "      <td>2018-09-04</td>\n",
       "      <td>501051</td>\n",
       "      <td>1</td>\n",
       "      <td>-764871900</td>\n",
       "      <td>34451717</td>\n",
       "      <td>572</td>\n",
       "      <td>140</td>\n",
       "      <td>548</td>\n",
       "      <td>5661359158</td>\n",
       "      <td>2018-09-03 07:05:57</td>\n",
       "      <td>714</td>\n",
       "    </tr>\n",
       "    <tr>\n",
       "      <th>1</th>\n",
       "      <td>19</td>\n",
       "      <td>2018-09-04</td>\n",
       "      <td>502103</td>\n",
       "      <td>1063</td>\n",
       "      <td>-765463867</td>\n",
       "      <td>33977717</td>\n",
       "      <td>1023</td>\n",
       "      <td>217</td>\n",
       "      <td>882</td>\n",
       "      <td>5661362653</td>\n",
       "      <td>2018-09-03 07:07:19</td>\n",
       "      <td>311</td>\n",
       "    </tr>\n",
       "    <tr>\n",
       "      <th>2</th>\n",
       "      <td>7</td>\n",
       "      <td>2018-09-04</td>\n",
       "      <td>515152</td>\n",
       "      <td>24</td>\n",
       "      <td>-765076783</td>\n",
       "      <td>34191300</td>\n",
       "      <td>705</td>\n",
       "      <td>2471</td>\n",
       "      <td>43</td>\n",
       "      <td>5661362655</td>\n",
       "      <td>2018-09-03 07:07:19</td>\n",
       "      <td>796</td>\n",
       "    </tr>\n",
       "    <tr>\n",
       "      <th>3</th>\n",
       "      <td>19</td>\n",
       "      <td>2018-09-04</td>\n",
       "      <td>502650</td>\n",
       "      <td>788</td>\n",
       "      <td>-764913067</td>\n",
       "      <td>34220317</td>\n",
       "      <td>143</td>\n",
       "      <td>150</td>\n",
       "      <td>389</td>\n",
       "      <td>5661367800</td>\n",
       "      <td>2018-09-03 07:09:21</td>\n",
       "      <td>561</td>\n",
       "    </tr>\n",
       "    <tr>\n",
       "      <th>4</th>\n",
       "      <td>7</td>\n",
       "      <td>2018-09-04</td>\n",
       "      <td>515006</td>\n",
       "      <td>91</td>\n",
       "      <td>-765005167</td>\n",
       "      <td>34115933</td>\n",
       "      <td>705</td>\n",
       "      <td>2471</td>\n",
       "      <td>43</td>\n",
       "      <td>5661348896</td>\n",
       "      <td>2018-09-03 07:01:54</td>\n",
       "      <td>796</td>\n",
       "    </tr>\n",
       "  </tbody>\n",
       "</table>\n",
       "</div>"
      ],
      "text/plain": [
       "  EventType RegisterDate  StopID Odometer   Longitude  Latitude TaskID LineID  \\\n",
       "0        19   2018-09-04  501051        1  -764871900  34451717    572    140   \n",
       "1        19   2018-09-04  502103     1063  -765463867  33977717   1023    217   \n",
       "2         7   2018-09-04  515152       24  -765076783  34191300    705   2471   \n",
       "3        19   2018-09-04  502650      788  -764913067  34220317    143    150   \n",
       "4         7   2018-09-04  515006       91  -765005167  34115933    705   2471   \n",
       "\n",
       "  TripID  DatagramID         DatagramDate BusID  \n",
       "0    548  5661359158  2018-09-03 07:05:57   714  \n",
       "1    882  5661362653  2018-09-03 07:07:19   311  \n",
       "2     43  5661362655  2018-09-03 07:07:19   796  \n",
       "3    389  5661367800  2018-09-03 07:09:21   561  \n",
       "4     43  5661348896  2018-09-03 07:01:54   796  "
      ]
     },
     "execution_count": 33,
     "metadata": {},
     "output_type": "execute_result"
    }
   ],
   "source": [
    "df.head()"
   ]
  },
  {
   "cell_type": "code",
   "execution_count": 34,
   "metadata": {},
   "outputs": [
    {
     "name": "stdout",
     "output_type": "stream",
     "text": [
      "<class 'pandas.core.frame.DataFrame'>\n",
      "RangeIndex: 2242473 entries, 0 to 2242472\n",
      "Data columns (total 12 columns):\n",
      " #   Column        Dtype \n",
      "---  ------        ----- \n",
      " 0   EventType     object\n",
      " 1   RegisterDate  object\n",
      " 2   StopID        object\n",
      " 3   Odometer      object\n",
      " 4   Longitude     object\n",
      " 5   Latitude      object\n",
      " 6   TaskID        object\n",
      " 7   LineID        object\n",
      " 8   TripID        object\n",
      " 9   DatagramID    object\n",
      " 10  DatagramDate  object\n",
      " 11  BusID         object\n",
      "dtypes: object(12)\n",
      "memory usage: 205.3+ MB\n"
     ]
    }
   ],
   "source": [
    "df.info()"
   ]
  },
  {
   "cell_type": "code",
   "execution_count": 35,
   "metadata": {},
   "outputs": [
    {
     "data": {
      "text/plain": [
       "EventType        0.000000\n",
       "RegisterDate    31.830350\n",
       "StopID           0.000089\n",
       "Odometer         0.000089\n",
       "Longitude        0.000089\n",
       "Latitude         0.000089\n",
       "TaskID           0.000089\n",
       "LineID           0.000089\n",
       "TripID           0.000089\n",
       "DatagramID       0.000089\n",
       "DatagramDate    32.079494\n",
       "BusID            0.000089\n",
       "dtype: float64"
      ]
     },
     "execution_count": 35,
     "metadata": {},
     "output_type": "execute_result"
    }
   ],
   "source": [
    "data_missing= df.isna().sum()/len(df)*100\n",
    "data_missing"
   ]
  },
  {
   "cell_type": "markdown",
   "metadata": {},
   "source": [
    "#### Los -1 y los 0 son buses que van sin tarea, sin operación, son viajes de posicionamiento o de salida"
   ]
  },
  {
   "cell_type": "code",
   "execution_count": 36,
   "metadata": {},
   "outputs": [
    {
     "name": "stdout",
     "output_type": "stream",
     "text": [
      "Porcentajes de -1 por cada columna : \n",
      "EventType : 0.0 %\n",
      "RegisterDate : 0.0 %\n",
      "StopID : 3.487667410042395 %\n",
      "Odometer : 23.387394184902117 %\n",
      "Longitude : 3.420464817190664 %\n",
      "Latitude : 3.420464817190664 %\n",
      "TaskID : 2.7919176730332986 %\n",
      "LineID : 2.3678768930551226 %\n",
      "TripID : 2.8771806840037764 %\n",
      "DatagramID : 0.0 %\n",
      "DatagramDate : 0.0 %\n",
      "BusID : 0.0 %\n"
     ]
    }
   ],
   "source": [
    "print(\"Porcentajes de -1 por cada columna : \")\n",
    "i=0\n",
    "for a in df.columns:\n",
    "  print(a,\":\",(df[a].values=='-1').sum()/len(df)*100,\"%\")\n",
    "  i+=1"
   ]
  },
  {
   "cell_type": "code",
   "execution_count": 37,
   "metadata": {},
   "outputs": [
    {
     "data": {
      "text/html": [
       "<div>\n",
       "<style scoped>\n",
       "    .dataframe tbody tr th:only-of-type {\n",
       "        vertical-align: middle;\n",
       "    }\n",
       "\n",
       "    .dataframe tbody tr th {\n",
       "        vertical-align: top;\n",
       "    }\n",
       "\n",
       "    .dataframe thead th {\n",
       "        text-align: right;\n",
       "    }\n",
       "</style>\n",
       "<table border=\"1\" class=\"dataframe\">\n",
       "  <thead>\n",
       "    <tr style=\"text-align: right;\">\n",
       "      <th></th>\n",
       "      <th>EventType</th>\n",
       "      <th>RegisterDate</th>\n",
       "      <th>StopID</th>\n",
       "      <th>Odometer</th>\n",
       "      <th>Longitude</th>\n",
       "      <th>Latitude</th>\n",
       "      <th>TaskID</th>\n",
       "      <th>LineID</th>\n",
       "      <th>TripID</th>\n",
       "      <th>DatagramID</th>\n",
       "      <th>DatagramDate</th>\n",
       "      <th>BusID</th>\n",
       "    </tr>\n",
       "  </thead>\n",
       "  <tbody>\n",
       "    <tr>\n",
       "      <th>count</th>\n",
       "      <td>2242473</td>\n",
       "      <td>1528686</td>\n",
       "      <td>2242471</td>\n",
       "      <td>2242471</td>\n",
       "      <td>2242471</td>\n",
       "      <td>2242471</td>\n",
       "      <td>2242471</td>\n",
       "      <td>2242471</td>\n",
       "      <td>2242471</td>\n",
       "      <td>2242471</td>\n",
       "      <td>1523099</td>\n",
       "      <td>2242471</td>\n",
       "    </tr>\n",
       "    <tr>\n",
       "      <th>unique</th>\n",
       "      <td>34</td>\n",
       "      <td>243</td>\n",
       "      <td>2120</td>\n",
       "      <td>12571</td>\n",
       "      <td>65753</td>\n",
       "      <td>108930</td>\n",
       "      <td>4304</td>\n",
       "      <td>111</td>\n",
       "      <td>2798</td>\n",
       "      <td>2242471</td>\n",
       "      <td>1425299</td>\n",
       "      <td>853</td>\n",
       "    </tr>\n",
       "    <tr>\n",
       "      <th>top</th>\n",
       "      <td>7</td>\n",
       "      <td>2019-03-30</td>\n",
       "      <td>-1</td>\n",
       "      <td>-1</td>\n",
       "      <td>-1</td>\n",
       "      <td>-1</td>\n",
       "      <td>-1</td>\n",
       "      <td>2273</td>\n",
       "      <td>-1</td>\n",
       "      <td>5748976007</td>\n",
       "      <td>2018-07-31 08:00:05</td>\n",
       "      <td>147</td>\n",
       "    </tr>\n",
       "    <tr>\n",
       "      <th>freq</th>\n",
       "      <td>320439</td>\n",
       "      <td>11502</td>\n",
       "      <td>78210</td>\n",
       "      <td>524456</td>\n",
       "      <td>76703</td>\n",
       "      <td>76703</td>\n",
       "      <td>62608</td>\n",
       "      <td>101770</td>\n",
       "      <td>64520</td>\n",
       "      <td>1</td>\n",
       "      <td>19</td>\n",
       "      <td>52793</td>\n",
       "    </tr>\n",
       "  </tbody>\n",
       "</table>\n",
       "</div>"
      ],
      "text/plain": [
       "       EventType RegisterDate   StopID Odometer Longitude Latitude   TaskID  \\\n",
       "count    2242473      1528686  2242471  2242471   2242471  2242471  2242471   \n",
       "unique        34          243     2120    12571     65753   108930     4304   \n",
       "top            7   2019-03-30       -1       -1        -1       -1       -1   \n",
       "freq      320439        11502    78210   524456     76703    76703    62608   \n",
       "\n",
       "         LineID   TripID  DatagramID         DatagramDate    BusID  \n",
       "count   2242471  2242471     2242471              1523099  2242471  \n",
       "unique      111     2798     2242471              1425299      853  \n",
       "top        2273       -1  5748976007  2018-07-31 08:00:05      147  \n",
       "freq     101770    64520           1                   19    52793  "
      ]
     },
     "execution_count": 37,
     "metadata": {},
     "output_type": "execute_result"
    }
   ],
   "source": [
    "df.describe(include=\"all\")"
   ]
  },
  {
   "cell_type": "code",
   "execution_count": 47,
   "metadata": {},
   "outputs": [
    {
     "data": {
      "text/html": [
       "<div>\n",
       "<style scoped>\n",
       "    .dataframe tbody tr th:only-of-type {\n",
       "        vertical-align: middle;\n",
       "    }\n",
       "\n",
       "    .dataframe tbody tr th {\n",
       "        vertical-align: top;\n",
       "    }\n",
       "\n",
       "    .dataframe thead th {\n",
       "        text-align: right;\n",
       "    }\n",
       "</style>\n",
       "<table border=\"1\" class=\"dataframe\">\n",
       "  <thead>\n",
       "    <tr style=\"text-align: right;\">\n",
       "      <th></th>\n",
       "      <th>EventType</th>\n",
       "      <th>RegisterDate</th>\n",
       "      <th>StopID</th>\n",
       "      <th>Odometer</th>\n",
       "      <th>Longitude</th>\n",
       "      <th>Latitude</th>\n",
       "      <th>TaskID</th>\n",
       "      <th>LineID</th>\n",
       "      <th>TripID</th>\n",
       "      <th>DatagramID</th>\n",
       "      <th>DatagramDate</th>\n",
       "      <th>BusID</th>\n",
       "    </tr>\n",
       "  </thead>\n",
       "  <tbody>\n",
       "    <tr>\n",
       "      <th>7</th>\n",
       "      <td>23</td>\n",
       "      <td>2018-09-04</td>\n",
       "      <td>500106</td>\n",
       "      <td>63</td>\n",
       "      <td>-765076683</td>\n",
       "      <td>34882767</td>\n",
       "      <td>1005</td>\n",
       "      <td>421</td>\n",
       "      <td>577</td>\n",
       "      <td>5661355791</td>\n",
       "      <td>2018-09-03 07:04:39</td>\n",
       "      <td>883</td>\n",
       "    </tr>\n",
       "    <tr>\n",
       "      <th>12</th>\n",
       "      <td>23</td>\n",
       "      <td>2018-09-04</td>\n",
       "      <td>502601</td>\n",
       "      <td>-1</td>\n",
       "      <td>-764863567</td>\n",
       "      <td>34130200</td>\n",
       "      <td>161</td>\n",
       "      <td>150</td>\n",
       "      <td>45</td>\n",
       "      <td>5661347319</td>\n",
       "      <td>2018-09-03 07:01:17</td>\n",
       "      <td>571</td>\n",
       "    </tr>\n",
       "    <tr>\n",
       "      <th>14</th>\n",
       "      <td>23</td>\n",
       "      <td>2018-09-04</td>\n",
       "      <td>513038</td>\n",
       "      <td>40</td>\n",
       "      <td>-765037383</td>\n",
       "      <td>34749833</td>\n",
       "      <td>579</td>\n",
       "      <td>3372</td>\n",
       "      <td>285</td>\n",
       "      <td>5661355907</td>\n",
       "      <td>2018-09-03 07:04:41</td>\n",
       "      <td>156</td>\n",
       "    </tr>\n",
       "    <tr>\n",
       "      <th>66</th>\n",
       "      <td>23</td>\n",
       "      <td>2018-09-07</td>\n",
       "      <td>515048</td>\n",
       "      <td>163</td>\n",
       "      <td>-765000800</td>\n",
       "      <td>34115600</td>\n",
       "      <td>2698</td>\n",
       "      <td>2473</td>\n",
       "      <td>99999</td>\n",
       "      <td>5667035023</td>\n",
       "      <td>2018-09-06 07:39:55</td>\n",
       "      <td>158</td>\n",
       "    </tr>\n",
       "    <tr>\n",
       "      <th>76</th>\n",
       "      <td>23</td>\n",
       "      <td>2018-09-05</td>\n",
       "      <td>511274</td>\n",
       "      <td>38</td>\n",
       "      <td>-765228500</td>\n",
       "      <td>33838717</td>\n",
       "      <td>76</td>\n",
       "      <td>2211</td>\n",
       "      <td>343</td>\n",
       "      <td>5664051200</td>\n",
       "      <td>2018-09-04 08:32:15</td>\n",
       "      <td>156</td>\n",
       "    </tr>\n",
       "  </tbody>\n",
       "</table>\n",
       "</div>"
      ],
      "text/plain": [
       "   EventType RegisterDate  StopID Odometer   Longitude  Latitude TaskID  \\\n",
       "7         23   2018-09-04  500106       63  -765076683  34882767   1005   \n",
       "12        23   2018-09-04  502601       -1  -764863567  34130200    161   \n",
       "14        23   2018-09-04  513038       40  -765037383  34749833    579   \n",
       "66        23   2018-09-07  515048      163  -765000800  34115600   2698   \n",
       "76        23   2018-09-05  511274       38  -765228500  33838717     76   \n",
       "\n",
       "   LineID TripID  DatagramID         DatagramDate BusID  \n",
       "7     421    577  5661355791  2018-09-03 07:04:39   883  \n",
       "12    150     45  5661347319  2018-09-03 07:01:17   571  \n",
       "14   3372    285  5661355907  2018-09-03 07:04:41   156  \n",
       "66   2473  99999  5667035023  2018-09-06 07:39:55   158  \n",
       "76   2211    343  5664051200  2018-09-04 08:32:15   156  "
      ]
     },
     "execution_count": 47,
     "metadata": {},
     "output_type": "execute_result"
    }
   ],
   "source": [
    "df2= df[(df['EventType']=='12') | (df['EventType']=='23')]\n",
    "df2.head()"
   ]
  },
  {
   "cell_type": "code",
   "execution_count": 127,
   "metadata": {
    "scrolled": true
   },
   "outputs": [
    {
     "data": {
      "text/html": [
       "<div>\n",
       "<style scoped>\n",
       "    .dataframe tbody tr th:only-of-type {\n",
       "        vertical-align: middle;\n",
       "    }\n",
       "\n",
       "    .dataframe tbody tr th {\n",
       "        vertical-align: top;\n",
       "    }\n",
       "\n",
       "    .dataframe thead th {\n",
       "        text-align: right;\n",
       "    }\n",
       "</style>\n",
       "<table border=\"1\" class=\"dataframe\">\n",
       "  <thead>\n",
       "    <tr style=\"text-align: right;\">\n",
       "      <th></th>\n",
       "      <th>BusID</th>\n",
       "    </tr>\n",
       "  </thead>\n",
       "  <tbody>\n",
       "    <tr>\n",
       "      <th>255</th>\n",
       "      <td>11341</td>\n",
       "    </tr>\n",
       "    <tr>\n",
       "      <th>640</th>\n",
       "      <td>10900</td>\n",
       "    </tr>\n",
       "    <tr>\n",
       "      <th>571</th>\n",
       "      <td>8264</td>\n",
       "    </tr>\n",
       "    <tr>\n",
       "      <th>153</th>\n",
       "      <td>7349</td>\n",
       "    </tr>\n",
       "    <tr>\n",
       "      <th>150</th>\n",
       "      <td>6925</td>\n",
       "    </tr>\n",
       "  </tbody>\n",
       "</table>\n",
       "</div>"
      ],
      "text/plain": [
       "     BusID\n",
       "255  11341\n",
       "640  10900\n",
       "571   8264\n",
       "153   7349\n",
       "150   6925"
      ]
     },
     "execution_count": 127,
     "metadata": {},
     "output_type": "execute_result"
    }
   ],
   "source": [
    "BusIDCounts=df2.BusID.value_counts().to_frame()\n",
    "BusIDCounts.head()"
   ]
  },
  {
   "cell_type": "code",
   "execution_count": 128,
   "metadata": {},
   "outputs": [
    {
     "data": {
      "text/html": [
       "<div>\n",
       "<style scoped>\n",
       "    .dataframe tbody tr th:only-of-type {\n",
       "        vertical-align: middle;\n",
       "    }\n",
       "\n",
       "    .dataframe tbody tr th {\n",
       "        vertical-align: top;\n",
       "    }\n",
       "\n",
       "    .dataframe thead th {\n",
       "        text-align: right;\n",
       "    }\n",
       "</style>\n",
       "<table border=\"1\" class=\"dataframe\">\n",
       "  <thead>\n",
       "    <tr style=\"text-align: right;\">\n",
       "      <th></th>\n",
       "      <th>index</th>\n",
       "      <th>BusID</th>\n",
       "    </tr>\n",
       "  </thead>\n",
       "  <tbody>\n",
       "    <tr>\n",
       "      <th>0</th>\n",
       "      <td>255</td>\n",
       "      <td>11341</td>\n",
       "    </tr>\n",
       "    <tr>\n",
       "      <th>1</th>\n",
       "      <td>640</td>\n",
       "      <td>10900</td>\n",
       "    </tr>\n",
       "    <tr>\n",
       "      <th>2</th>\n",
       "      <td>571</td>\n",
       "      <td>8264</td>\n",
       "    </tr>\n",
       "    <tr>\n",
       "      <th>3</th>\n",
       "      <td>153</td>\n",
       "      <td>7349</td>\n",
       "    </tr>\n",
       "    <tr>\n",
       "      <th>4</th>\n",
       "      <td>150</td>\n",
       "      <td>6925</td>\n",
       "    </tr>\n",
       "  </tbody>\n",
       "</table>\n",
       "</div>"
      ],
      "text/plain": [
       "  index  BusID\n",
       "0   255  11341\n",
       "1   640  10900\n",
       "2   571   8264\n",
       "3   153   7349\n",
       "4   150   6925"
      ]
     },
     "execution_count": 128,
     "metadata": {},
     "output_type": "execute_result"
    }
   ],
   "source": [
    "BusIDCounts2= BusIDCounts.reset_index()\n",
    "BusIDCounts2.head()"
   ]
  },
  {
   "cell_type": "code",
   "execution_count": 131,
   "metadata": {
    "scrolled": true
   },
   "outputs": [
    {
     "data": {
      "text/html": [
       "<div>\n",
       "<style scoped>\n",
       "    .dataframe tbody tr th:only-of-type {\n",
       "        vertical-align: middle;\n",
       "    }\n",
       "\n",
       "    .dataframe tbody tr th {\n",
       "        vertical-align: top;\n",
       "    }\n",
       "\n",
       "    .dataframe thead th {\n",
       "        text-align: right;\n",
       "    }\n",
       "</style>\n",
       "<table border=\"1\" class=\"dataframe\">\n",
       "  <thead>\n",
       "    <tr style=\"text-align: right;\">\n",
       "      <th></th>\n",
       "      <th>BusID</th>\n",
       "      <th>Counts</th>\n",
       "    </tr>\n",
       "  </thead>\n",
       "  <tbody>\n",
       "    <tr>\n",
       "      <th>0</th>\n",
       "      <td>255</td>\n",
       "      <td>11341</td>\n",
       "    </tr>\n",
       "    <tr>\n",
       "      <th>1</th>\n",
       "      <td>640</td>\n",
       "      <td>10900</td>\n",
       "    </tr>\n",
       "    <tr>\n",
       "      <th>2</th>\n",
       "      <td>571</td>\n",
       "      <td>8264</td>\n",
       "    </tr>\n",
       "    <tr>\n",
       "      <th>3</th>\n",
       "      <td>153</td>\n",
       "      <td>7349</td>\n",
       "    </tr>\n",
       "    <tr>\n",
       "      <th>4</th>\n",
       "      <td>150</td>\n",
       "      <td>6925</td>\n",
       "    </tr>\n",
       "  </tbody>\n",
       "</table>\n",
       "</div>"
      ],
      "text/plain": [
       "  BusID  Counts\n",
       "0   255   11341\n",
       "1   640   10900\n",
       "2   571    8264\n",
       "3   153    7349\n",
       "4   150    6925"
      ]
     },
     "execution_count": 131,
     "metadata": {},
     "output_type": "execute_result"
    }
   ],
   "source": [
    "BusIDCounts2.columns=['BusID','Counts']\n",
    "BusIDCounts2.head()"
   ]
  },
  {
   "cell_type": "code",
   "execution_count": 134,
   "metadata": {},
   "outputs": [],
   "source": [
    "plt.rc('figure',figsize=(15,8))"
   ]
  },
  {
   "cell_type": "code",
   "execution_count": 135,
   "metadata": {},
   "outputs": [
    {
     "data": {
      "image/png": "[encoded data removed]",
      "text/plain": [
       "<Figure size 1080x576 with 1 Axes>"
      ]
     },
     "metadata": {
      "needs_background": "light"
     },
     "output_type": "display_data"
    }
   ],
   "source": [
    "x = BusIDCounts2['BusID']\n",
    "y = BusIDCounts2['Counts']\n",
    "\n",
    "fig, ax = plt.subplots()\n",
    "ax.scatter(x,y)\n",
    "plt.show()"
   ]
  },
  {
   "cell_type": "code",
   "execution_count": 138,
   "metadata": {},
   "outputs": [
    {
     "data": {
      "text/plain": [
       "<matplotlib.axes._subplots.AxesSubplot at 0x1fe051f6580>"
      ]
     },
     "execution_count": 138,
     "metadata": {},
     "output_type": "execute_result"
    },
    {
     "data": {
      "image/png": "[encoded data removed]",
      "text/plain": [
       "<Figure size 1080x576 with 1 Axes>"
      ]
     },
     "metadata": {
      "needs_background": "light"
     },
     "output_type": "display_data"
    }
   ],
   "source": [
    "sns.boxplot(y=BusIDCounts2['Counts'])"
   ]
  },
  {
   "cell_type": "code",
   "execution_count": null,
   "metadata": {},
   "outputs": [],
   "source": []
  }
 ],
 "metadata": {
  "kernelspec": {
   "display_name": "Python 3",
   "language": "python",
   "name": "python3"
  },
  "language_info": {
   "codemirror_mode": {
    "name": "ipython",
    "version": 3
   },
   "file_extension": ".py",
   "mimetype": "text/x-python",
   "name": "python",
   "nbconvert_exporter": "python",
   "pygments_lexer": "ipython3",
   "version": "3.8.2"
  }
 },
 "nbformat": 4,
 "nbformat_minor": 4
}
